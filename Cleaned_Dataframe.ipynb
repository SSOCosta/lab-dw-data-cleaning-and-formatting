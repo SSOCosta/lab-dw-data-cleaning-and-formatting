{
 "cells": [
  {
   "cell_type": "markdown",
   "id": "25d7736c-ba17-4aff-b6bb-66eba20fbf4e",
   "metadata": {
    "id": "25d7736c-ba17-4aff-b6bb-66eba20fbf4e"
   },
   "source": [
    "# Lab | Data Cleaning and Formatting"
   ]
  },
  {
   "cell_type": "markdown",
   "id": "d1973e9e-8be6-4039-b70e-d73ee0d94c99",
   "metadata": {
    "id": "d1973e9e-8be6-4039-b70e-d73ee0d94c99"
   },
   "source": [
    "In this lab, we will be working with the customer data from an insurance company, which can be found in the CSV file located at the following link: https://raw.githubusercontent.com/data-bootcamp-v4/data/main/file1.csv\n"
   ]
  },
  {
   "cell_type": "markdown",
   "id": "31b8a9e7-7db9-4604-991b-ef6771603e57",
   "metadata": {
    "id": "31b8a9e7-7db9-4604-991b-ef6771603e57"
   },
   "source": [
    "# Challenge 1: Data Cleaning and Formatting"
   ]
  },
  {
   "cell_type": "markdown",
   "id": "81553f19-9f2c-484b-8940-520aff884022",
   "metadata": {
    "id": "81553f19-9f2c-484b-8940-520aff884022"
   },
   "source": [
    "## Exercise 1: Cleaning Column Names"
   ]
  },
  {
   "cell_type": "markdown",
   "id": "34a929f4-1be4-4fa8-adda-42ffd920be90",
   "metadata": {
    "id": "34a929f4-1be4-4fa8-adda-42ffd920be90"
   },
   "source": [
    "To ensure consistency and ease of use, standardize the column names of the dataframe. Start by taking a first look at the dataframe and identifying any column names that need to be modified. Use appropriate naming conventions and make sure that column names are descriptive and informative.\n",
    "\n",
    "*Hint*:\n",
    "- *Column names should be in lower case*\n",
    "- *White spaces in column names should be replaced by `_`*\n",
    "- *`st` could be replaced for `state`*"
   ]
  },
  {
   "cell_type": "code",
   "execution_count": null,
   "id": "5810735c-8056-4442-bbf2-dda38d3e284a",
   "metadata": {
    "id": "5810735c-8056-4442-bbf2-dda38d3e284a"
   },
   "outputs": [],
   "source": [
    "import numpy as np\n",
    "import pandas as pd"
   ]
  },
  {
   "cell_type": "code",
   "execution_count": null,
   "id": "14052ab4",
   "metadata": {},
   "outputs": [],
   "source": [
    "df = pd.read_csv('https://raw.githubusercontent.com/data-bootcamp-v4/data/main/file1.csv')\n",
    "df"
   ]
  },
  {
   "cell_type": "code",
   "execution_count": null,
   "id": "0b9a961e",
   "metadata": {},
   "outputs": [],
   "source": [
    "# Changing the columns name to lower case\n",
    "df.columns = df.columns.str.lower()\n",
    "df"
   ]
  },
  {
   "cell_type": "code",
   "execution_count": null,
   "id": "7780cb41",
   "metadata": {},
   "outputs": [],
   "source": [
    "#Getting the index of the columns\n",
    "df.columns"
   ]
  },
  {
   "cell_type": "code",
   "execution_count": null,
   "id": "66955f0e",
   "metadata": {},
   "outputs": [],
   "source": [
    "#Renaming the columns\n",
    "df = df.rename(columns ={'st':'state','customer lifetime value':'customer_lifetime_value','monthly premium auto':'monthly_premium_auto','number of open complaints':'number_of_open_complaints','policy type':'policy_type','vehicle class':'vehicle_class','total claim amount':'total_claim_amount'})\n",
    "df"
   ]
  },
  {
   "cell_type": "markdown",
   "id": "9cb501ec-36ff-4589-b872-6252bb150316",
   "metadata": {
    "id": "9cb501ec-36ff-4589-b872-6252bb150316"
   },
   "source": [
    "## Exercise 2: Cleaning invalid Values"
   ]
  },
  {
   "cell_type": "markdown",
   "id": "771fdcf3-8e20-4b06-9c24-3a93ba2b0909",
   "metadata": {
    "id": "771fdcf3-8e20-4b06-9c24-3a93ba2b0909"
   },
   "source": [
    "The dataset contains columns with inconsistent and incorrect values that could affect the accuracy of our analysis. Therefore, we need to clean these columns to ensure that they only contain valid data.\n",
    "\n",
    "Note that this exercise will focus only on cleaning inconsistent values and will not involve handling null values (NaN or None).\n",
    "\n",
    "*Hint*:\n",
    "- *Gender column contains various inconsistent values such as \"F\", \"M\", \"Femal\", \"Male\", \"female\", which need to be standardized, for example, to \"M\" and \"F\".*\n",
    "- *State abbreviations be can replaced with its full name, for example \"AZ\": \"Arizona\", \"Cali\": \"California\", \"WA\": \"Washington\"*\n",
    "- *In education, \"Bachelors\" could be replaced by \"Bachelor\"*\n",
    "- *In Customer Lifetime Value, delete the `%` character*\n",
    "- *In vehicle class, \"Sports Car\", \"Luxury SUV\" and \"Luxury Car\" could be replaced by \"Luxury\"*"
   ]
  },
  {
   "cell_type": "code",
   "execution_count": null,
   "id": "8e0360d9",
   "metadata": {},
   "outputs": [],
   "source": [
    "# Getting the unique values of 'gender'\n",
    "df['gender'].unique()"
   ]
  },
  {
   "cell_type": "code",
   "execution_count": null,
   "id": "3f8ee5cb-50ab-48af-8a9f-9a389804033c",
   "metadata": {
    "id": "3f8ee5cb-50ab-48af-8a9f-9a389804033c"
   },
   "outputs": [],
   "source": [
    "# Defyining a function to change to get the values consistent with 'F', 'M', or ''(unknown - NAN, other)\n",
    "def clean(x):\n",
    "    if x in ['M', 'Male']:\n",
    "        return 'M'\n",
    "    elif x in('F','Femal','female'):\n",
    "        return 'F'\n",
    "    else:\n",
    "        return   \n",
    "\n",
    "# Applying the clean function to the 'gender' column\n",
    "df['gender'] = df['gender'].map(clean)\n",
    "# Checking the results\n",
    "df['gender'].unique()"
   ]
  },
  {
   "cell_type": "code",
   "execution_count": null,
   "id": "0bedc843",
   "metadata": {},
   "outputs": [],
   "source": [
    "# Getting the unique values of 'state'\n",
    "df['state'].unique()"
   ]
  },
  {
   "cell_type": "code",
   "execution_count": null,
   "id": "6cd2c9d1",
   "metadata": {},
   "outputs": [],
   "source": [
    "#Renaming the state\n",
    "state_rename = {\"AZ\": \"Arizona\",\"Cali\": \"California\", \"WA\": \"Washington\"}\n",
    "df['state'] = df['state'].replace(state_rename)\n",
    "# Checking the results\n",
    "df['state'].unique()"
   ]
  },
  {
   "cell_type": "code",
   "execution_count": null,
   "id": "5b1df8b8",
   "metadata": {},
   "outputs": [],
   "source": [
    "#Replacing education 'Bachelors'\n",
    "df['education'] = df['education'].replace('Bachelors','Bachelor')\n",
    "df['education'].unique()"
   ]
  },
  {
   "cell_type": "code",
   "execution_count": null,
   "id": "5d7e3225",
   "metadata": {},
   "outputs": [],
   "source": [
    "#Replacing the character, and affirming that we want to convert to a regular expression value, assuming that is now a float number / 100\n",
    "df['customer_lifetime_value'] = df['customer_lifetime_value'].str.replace('%', '', regex=True).astype(float) / 100\n",
    "df"
   ]
  },
  {
   "cell_type": "code",
   "execution_count": null,
   "id": "82ad8256",
   "metadata": {},
   "outputs": [],
   "source": [
    "df['vehicle_class'].unique()"
   ]
  },
  {
   "cell_type": "code",
   "execution_count": null,
   "id": "1fe7c01a",
   "metadata": {},
   "outputs": [],
   "source": [
    "# Replacing in vehicle class [\"Sports Car\", \"Luxury SUV\",\"Luxury Car\"] by \"Luxury\"\n",
    "df['vehicle_class'] = df['vehicle_class'].replace(['Sports Car', 'Luxury SUV','Luxury Car'],'Luxury')\n",
    "# Checking the results\n",
    "df['vehicle_class'].unique()"
   ]
  },
  {
   "cell_type": "markdown",
   "id": "85ff78ce-0174-4890-9db3-8048b7d7d2d0",
   "metadata": {
    "id": "85ff78ce-0174-4890-9db3-8048b7d7d2d0"
   },
   "source": [
    "## Exercise 3: Formatting data types"
   ]
  },
  {
   "cell_type": "markdown",
   "id": "b91c2cf8-79a2-4baf-9f65-ff2fb22270bd",
   "metadata": {
    "id": "b91c2cf8-79a2-4baf-9f65-ff2fb22270bd"
   },
   "source": [
    "The data types of many columns in the dataset appear to be incorrect. This could impact the accuracy of our analysis. To ensure accurate analysis, we need to correct the data types of these columns. Please update the data types of the columns as appropriate."
   ]
  },
  {
   "cell_type": "markdown",
   "id": "43e5d853-ff9e-43b2-9d92-aef2f78764f3",
   "metadata": {
    "id": "43e5d853-ff9e-43b2-9d92-aef2f78764f3"
   },
   "source": [
    "It is important to note that this exercise does not involve handling null values (NaN or None)."
   ]
  },
  {
   "cell_type": "markdown",
   "id": "329ca691-9196-4419-8969-3596746237a1",
   "metadata": {
    "id": "329ca691-9196-4419-8969-3596746237a1"
   },
   "source": [
    "Hint*:\n",
    "- *Customer lifetime value should be numeric*\n",
    "- *Number of open complaints has an incorrect format. Look at the different values it takes with `unique()` and take the middle value. As an example, 1/5/00 should be 5. Number of open complaints is a string - remember you can use `split()` to deal with it and take the number you need. Finally, since it should be numeric, cast the column to be in its proper type.*"
   ]
  },
  {
   "cell_type": "code",
   "execution_count": null,
   "id": "eb8f5991-73e9-405f-bf1c-6b7c589379a9",
   "metadata": {
    "id": "eb8f5991-73e9-405f-bf1c-6b7c589379a9"
   },
   "outputs": [],
   "source": [
    "# As we did the alteration above for float and regular expression, the customer_lifetime_value is no longer an object and is now numeric/float64\n",
    "df.dtypes"
   ]
  },
  {
   "cell_type": "code",
   "execution_count": null,
   "id": "5286d25b",
   "metadata": {},
   "outputs": [],
   "source": [
    "df['number_of_open_complaints'].unique()"
   ]
  },
  {
   "cell_type": "code",
   "execution_count": null,
   "id": "7710f431",
   "metadata": {},
   "outputs": [],
   "source": [
    "number_of_open_complaints = ['1/2/00','1/0/00', '1/1/00', '1/3/00', '1/5/00', '1/4/00']\n",
    "number_of_open_complaints.sort()\n",
    "number_of_open_complaints"
   ]
  },
  {
   "cell_type": "code",
   "execution_count": null,
   "id": "adaea733",
   "metadata": {},
   "outputs": [],
   "source": [
    "df.dtypes"
   ]
  },
  {
   "cell_type": "code",
   "execution_count": null,
   "id": "7f9ec1d7",
   "metadata": {},
   "outputs": [],
   "source": [
    "#Renaming the complaints and replacing them\n",
    "complaints_rename = ({'1/0/00':'0', '1/2/00':'2', '1/1/00':'1', '1/3/00':'3', '1/5/00':'5','1/4/00':'4'})\n",
    "df['number_of_open_complaints'] = df['number_of_open_complaints'].replace(complaints_rename)\n",
    "# Checking the results\n",
    "df['number_of_open_complaints'].unique()\n",
    "df"
   ]
  },
  {
   "cell_type": "code",
   "execution_count": null,
   "id": "868f3077",
   "metadata": {},
   "outputs": [],
   "source": [
    "# Converting the categorical for numerical type\n",
    "df['number_of_open_complaints'] = pd.to_numeric(df['number_of_open_complaints'], errors='coerce')\n",
    "df.dtypes"
   ]
  },
  {
   "cell_type": "markdown",
   "id": "14c52e28-2d0c-4dd2-8bd5-3476e34fadc1",
   "metadata": {
    "id": "14c52e28-2d0c-4dd2-8bd5-3476e34fadc1"
   },
   "source": [
    "## Exercise 4: Dealing with Null values"
   ]
  },
  {
   "cell_type": "markdown",
   "id": "34b9a20f-7d32-4417-975e-1b4dfb0e16cd",
   "metadata": {
    "id": "34b9a20f-7d32-4417-975e-1b4dfb0e16cd"
   },
   "source": [
    "Identify any columns with null or missing values. Identify how many null values each column has. You can use the `isnull()` function in pandas to find columns with null values.\n",
    "\n",
    "Decide on a strategy for handling the null values. There are several options, including:\n",
    "\n",
    "- Drop the rows or columns with null values\n",
    "- Fill the null values with a specific value (such as the column mean or median for numerical variables, and mode for categorical variables)\n",
    "- Fill the null values with the previous or next value in the column\n",
    "- Fill the null values based on a more complex algorithm or model (note: we haven't covered this yet)\n",
    "\n",
    "Implement your chosen strategy to handle the null values. You can use the `fillna()` function in pandas to fill null values or `dropna()` function to drop null values.\n",
    "\n",
    "Verify that your strategy has successfully handled the null values. You can use the `isnull()` function again to check if there are still null values in the dataset.\n",
    "\n",
    "Remember to document your process and explain your reasoning for choosing a particular strategy for handling null values.\n",
    "\n",
    "After formatting data types, as a last step, convert all the numeric variables to integers using `applymap()`."
   ]
  },
  {
   "cell_type": "code",
   "execution_count": null,
   "id": "ed5f19d8",
   "metadata": {},
   "outputs": [],
   "source": [
    "null_counts = df.isnull().sum()\n",
    "null_counts"
   ]
  },
  {
   "cell_type": "code",
   "execution_count": null,
   "id": "7feb1bb2",
   "metadata": {},
   "outputs": [],
   "source": [
    "# EXERCISE 5 For this part I have followed Erin's advice and dropped the duplicates first.We can already see a huge difference\n",
    "\n",
    "# I've choosen to drop duplicates based on Keeping only the last occurrence of each duplicated row.This was the option that for me would make more\n",
    "# sense for me because is handles with the last version entered\n",
    "# All the columns had NAN values,what excludes 'Dropping duplicates based on a specific column'\n",
    "# Dropping all duplicate rows, this will implicate eventually to loose important data for analysis\n",
    "# Dropping duplicates based on a subset of columns. This could also be an option, and I've also tried it, and checked the shape of both, beeing exctly the same\n",
    "\n",
    "# subset_columns = df.columns\n",
    "#df = df.drop_duplicates(subset=subset_columns)\n",
    "\n",
    "df = df.drop_duplicates(keep='last')\n",
    "df = df.reset_index(drop=True)\n",
    "df_new = df\n",
    "df_new"
   ]
  },
  {
   "cell_type": "code",
   "execution_count": null,
   "id": "62f5b0e7",
   "metadata": {},
   "outputs": [],
   "source": [
    "# Verifying that my strategy has successfully handled the duplicates\n",
    "df_new.shape"
   ]
  },
  {
   "cell_type": "code",
   "execution_count": null,
   "id": "f184fc35-7831-4836-a0a5-e7f99e01b40e",
   "metadata": {
    "id": "f184fc35-7831-4836-a0a5-e7f99e01b40e"
   },
   "outputs": [],
   "source": [
    "\n",
    "# df is now df_new that I have alredy runned at point 5\n",
    "# Identifying how many null values each column has\n",
    "null_counts = df_new.isnull().sum()\n",
    "null_counts"
   ]
  },
  {
   "cell_type": "code",
   "execution_count": null,
   "id": "4ae082f7",
   "metadata": {},
   "outputs": [],
   "source": [
    "# Checking to make sure if would use mean or median value to replace values\n",
    "df_new.describe()"
   ]
  },
  {
   "cell_type": "code",
   "execution_count": null,
   "id": "15a50194",
   "metadata": {},
   "outputs": [],
   "source": [
    "# We can see that each column had a lot of null values, however , removing the duplicates made a huge differene.\n",
    "# Drop the rows or columns with null values is not a valid option here.Despite  a few of them have only a null value, 'gender'\n",
    "# still has a considerable amount of values.\n",
    "# Fill the null values with the previous or next value in the column. If we have the previous or the next rows with \n",
    "# also NaN values will not sort the problem, at least for 'gender' and possibly for 'customer_lifetime_value'.\n",
    "# Fill the null values based on a more complex algorithm or model (note: we haven't covered this yet). Maybe I'll try in a few weeks ;)\n",
    "#Fill the null values with a specific value (such as the column mean or median for numerical variables, and mode for categorical variables)\n",
    "\n",
    "# Fill the null values with the median value. I chose the median, because I can see that the maximum value really differs from the other, what can implicate the liability of the mean, becoming the median will be more reasonable \n",
    "#for this situations\n",
    "\n",
    "numerical_columns = df_new.select_dtypes(include=['int', 'float']).columns\n",
    "categorical_columns = df_new.select_dtypes(exclude=['int', 'float']).columns\n",
    "\n",
    "# Fill null values in numerical columns with the median\n",
    "for col in numerical_columns:\n",
    "    median_value = df_new[col].median()\n",
    "    df_new[col].fillna(median_value, inplace=True)\n",
    "\n",
    "# Fill null values in categorical columns with the mode\n",
    "for col in categorical_columns:\n",
    "    mode_value = df_new[col].mode()[0]\n",
    "    df_new[col].fillna(mode_value, inplace=True)\n",
    "df_new\n"
   ]
  },
  {
   "cell_type": "code",
   "execution_count": null,
   "id": "2fdae1dd",
   "metadata": {},
   "outputs": [],
   "source": [
    "#Checking the results wich shows no left null values!\n",
    "null_counts = df_new.isnull().sum()\n",
    "null_counts"
   ]
  },
  {
   "cell_type": "markdown",
   "id": "98416351-e999-4156-9834-9b00a311adfa",
   "metadata": {
    "id": "98416351-e999-4156-9834-9b00a311adfa"
   },
   "source": [
    "## Exercise 5: Dealing with duplicates"
   ]
  },
  {
   "cell_type": "markdown",
   "id": "ea0816a7-a18e-4d4c-b667-a8452a800bd1",
   "metadata": {
    "id": "ea0816a7-a18e-4d4c-b667-a8452a800bd1"
   },
   "source": [
    "Use the `.duplicated()` method to identify any duplicate rows in the dataframe.\n",
    "\n",
    "Decide on a strategy for handling the duplicates. Options include:\n",
    "- Dropping all duplicate rows\n",
    "- Keeping only the first occurrence of each duplicated row\n",
    "- Keeping only the last occurrence of each duplicated row\n",
    "- Dropping duplicates based on a subset of columns\n",
    "- Dropping duplicates based on a specific column\n",
    "\n",
    "Implement your chosen strategy using the `drop_duplicates()` function.\n",
    "\n",
    "Verify that your strategy has successfully handled the duplicates by checking for duplicates again using `.duplicated()`.\n",
    "\n",
    "Remember to document your process and explain your reasoning for choosing a particular strategy for handling duplicates.\n",
    "\n",
    "Save the cleaned dataset to a new CSV file.\n",
    "\n",
    "*Hint*: *after dropping duplicates, reset the index to ensure consistency*."
   ]
  },
  {
   "cell_type": "code",
   "execution_count": null,
   "id": "1929362c-47ed-47cb-baca-358b78d401a0",
   "metadata": {
    "id": "1929362c-47ed-47cb-baca-358b78d401a0"
   },
   "outputs": [],
   "source": [
    "#Step already done on Step 4"
   ]
  },
  {
   "cell_type": "code",
   "execution_count": null,
   "id": "afbf345a",
   "metadata": {},
   "outputs": [],
   "source": []
  },
  {
   "cell_type": "code",
   "execution_count": null,
   "id": "04f7e130",
   "metadata": {},
   "outputs": [],
   "source": [
    "# Lab | Customer Analysis Round 3\n",
    "#EDA (Exploratory Data Analysis) - Complete the following tasks to explore the data:"
   ]
  },
  {
   "cell_type": "code",
   "execution_count": null,
   "id": "073fa8f6",
   "metadata": {},
   "outputs": [],
   "source": [
    "# Show DataFrame info.\n",
    "df_new.info"
   ]
  },
  {
   "cell_type": "code",
   "execution_count": null,
   "id": "bbc69793",
   "metadata": {},
   "outputs": [],
   "source": [
    "# Describe DataFrame.\n",
    "df_new.describe().T"
   ]
  },
  {
   "cell_type": "code",
   "execution_count": null,
   "id": "87af991a",
   "metadata": {},
   "outputs": [],
   "source": [
    "# Show a plot of the Gender breakdown.\n",
    "#importing the necessary library\n",
    "import matplotlib.pyplot as plt\n",
    "import seaborn as sns \n",
    "%matplotlib inline\n",
    "\n",
    "gender_counts = df_new['gender'].value_counts()\n",
    "gender_counts"
   ]
  },
  {
   "cell_type": "code",
   "execution_count": null,
   "id": "9a1ac86d",
   "metadata": {},
   "outputs": [],
   "source": [
    "# Show a plot of the Gender breakdown.\n",
    "#Representative barplot\n",
    "plt.bar(gender_counts.keys(), gender_counts.values)\n",
    "# Label the axes and title\n",
    "plt.xlabel('Gender')\n",
    "plt.ylabel('Count')\n",
    "plt.title('Gender Breakdown')\n",
    "plt.show()"
   ]
  },
  {
   "cell_type": "code",
   "execution_count": null,
   "id": "726870a3",
   "metadata": {},
   "outputs": [],
   "source": [
    "# Show a plot of Income by State.\n",
    "sns.barplot(x=\"state\", y=\"income\", data=df_new)\n",
    "plt.show()"
   ]
  },
  {
   "cell_type": "code",
   "execution_count": null,
   "id": "e54f291c",
   "metadata": {},
   "outputs": [],
   "source": [
    "# Show a plot of the Policy Type by the Total Claim Amount.\n",
    "plt.figure(figsize=(10, 6))\n",
    "sns.boxplot(data=df_new, x=\"policy_type\", y=\"total_claim_amount\")\n",
    "plt.title('Total Claim Amount by Policy Type')\n",
    "plt.xlabel('Policy Type')\n",
    "plt.ylabel('Total Claim Amount')\n",
    "plt.show()"
   ]
  },
  {
   "cell_type": "code",
   "execution_count": null,
   "id": "7b9d725b",
   "metadata": {
    "scrolled": true
   },
   "outputs": [],
   "source": [
    "# Show a plot of the Education by Vehicle Class.\n",
    "plt.figure(figsize=(10, 6))\n",
    "sns.countplot(data=df_new, x=\"education\", hue=\"vehicle_class\")\n",
    "plt.title('Distribution of Education and Vehicle Class')\n",
    "plt.xlabel('Education')\n",
    "plt.ylabel('Count')\n",
    "plt.xticks(rotation=45)\n",
    "plt.show()"
   ]
  },
  {
   "cell_type": "code",
   "execution_count": null,
   "id": "d55e8a8b",
   "metadata": {},
   "outputs": [],
   "source": []
  },
  {
   "cell_type": "code",
   "execution_count": null,
   "id": "43c60358",
   "metadata": {},
   "outputs": [],
   "source": [
    "# What insights can you establish from these plots?\n",
    "\"\"\"From the first plot 'gender breakdown' we can observe that the are almost 200 more female costumers than male costumers.\n",
    "   \n",
    "   From the plot 'Income by State', we can see that costumers from Washington have the highest income, more than 50k, followed by\n",
    "   Oregon 39k, California and Arizona both with around 38k and with the lowest income per costumer comes Nevada with around 36k.\n",
    "   \n",
    "   From the plot 'Policy Type by the Total Claim Amount'we can observe that Special Auto has the lowest value for Total claim amount, followed by Corporate Auto and final by Personal Auto that show to have\n",
    "   the highest value of Total Claim Amount.\n",
    "   \n",
    "   From the plot 'Education by Vehicle Class' we can observe that the majority of the costumers in each education level, has a four-door car.\n",
    "   Costumers with bachelor lever have the highest counting for four-door cars.\n",
    "   In the Bachelor and High-school level, the distribution is quite similar, four-door car and then, two door car, SUV and finally luxury\n",
    "   For college and Doctor level, the second highest vehicle class is SUV, follewd by two door car and at last the Luxury car\n",
    "   For the Master level, after the four door car, the two door car and suv as the second option and for last the Luxury car.\n",
    "   From the costumers, the majority doesn't have a policy for luxury car, perhaps due to their hihg price value.\n",
    "   The 'high-school or below' level have the highst amount of luxury cars counted.\"\"\""
   ]
  },
  {
   "cell_type": "code",
   "execution_count": null,
   "id": "3da55e2a",
   "metadata": {},
   "outputs": [],
   "source": [
    "# What other plots do you feel would be beneficial?\n",
    "\"\"\"I would say 'monthly_premium_auto' and 'vehicle_class' and then 'education and income', to confirm that if the premium for vehicle-class is definitely the most\n",
    "expensive and also to check why the 'high-school or below' level have the highst amount of luxury cars counted.\"\"\""
   ]
  },
  {
   "cell_type": "markdown",
   "id": "60840701-4783-40e2-b4d8-55303f9100c9",
   "metadata": {
    "id": "60840701-4783-40e2-b4d8-55303f9100c9"
   },
   "source": [
    "# Bonus: Challenge 2: creating functions on a separate `py` file"
   ]
  },
  {
   "cell_type": "markdown",
   "id": "9d1adb3a-17cf-4899-8041-da21a4337fb4",
   "metadata": {
    "id": "9d1adb3a-17cf-4899-8041-da21a4337fb4"
   },
   "source": [
    "Put all the data cleaning and formatting steps into functions, and create a main function that performs all the cleaning and formatting.\n",
    "\n",
    "Write these functions in separate .py file(s). By putting these steps into functions, we can make the code more modular and easier to maintain."
   ]
  },
  {
   "cell_type": "markdown",
   "id": "0e170dc2-b62c-417a-8248-e63ed18a70c4",
   "metadata": {
    "id": "0e170dc2-b62c-417a-8248-e63ed18a70c4"
   },
   "source": [
    "*Hint: autoreload module is a utility module in Python that allows you to automatically reload modules in the current session when changes are made to the source code. This can be useful in situations where you are actively developing code and want to see the effects of changes you make without having to constantly restart the Python interpreter or Jupyter Notebook kernel.*"
   ]
  },
  {
   "cell_type": "code",
   "execution_count": null,
   "id": "a52c6dfc-cd11-4d01-bda4-f719fa33e9a4",
   "metadata": {
    "id": "a52c6dfc-cd11-4d01-bda4-f719fa33e9a4"
   },
   "outputs": [],
   "source": [
    "# Your code here"
   ]
  },
  {
   "cell_type": "markdown",
   "id": "80f846bb-3f5e-4ca2-96c0-900728daca5a",
   "metadata": {
    "id": "80f846bb-3f5e-4ca2-96c0-900728daca5a",
    "tags": []
   },
   "source": [
    "# Bonus: Challenge 3: Analyzing Clean and Formated Data"
   ]
  },
  {
   "cell_type": "markdown",
   "id": "9021630e-cc90-446c-b5bd-264d6c864207",
   "metadata": {
    "id": "9021630e-cc90-446c-b5bd-264d6c864207"
   },
   "source": [
    "You have been tasked with analyzing the data to identify potential areas for improving customer retention and profitability. Your goal is to identify customers with a high policy claim amount and a low customer lifetime value.\n",
    "\n",
    "In the Pandas Lab, we only looked at high policy claim amounts because we couldn't look into low customer lifetime values. If we had tried to work with that column, we wouldn't have been able to because customer lifetime value wasn't clean and in its proper format. So after cleaning and formatting the data, let's get some more interesting insights!\n",
    "\n",
    "Instructions:\n",
    "\n",
    "- Review the statistics again for total claim amount and customer lifetime value to gain an understanding of the data.\n",
    "- To identify potential areas for improving customer retention and profitability, we want to focus on customers with a high policy claim amount and a low customer lifetime value. Consider customers with a high policy claim amount to be those in the top 25% of the total claim amount, and clients with a low customer lifetime value to be those in the bottom 25% of the customer lifetime value. Create a pandas DataFrame object that contains information about customers with a policy claim amount greater than the 75th percentile and a customer lifetime value in the bottom 25th percentile.\n",
    "- Use DataFrame methods to calculate summary statistics about the high policy claim amount and low customer lifetime value data. To do so, select both columns of the dataframe simultaneously and pass it to the `.describe()` method. This will give you descriptive statistics, such as mean, median, standard deviation, minimum and maximum values for both columns at the same time, allowing you to compare and analyze their characteristics."
   ]
  },
  {
   "cell_type": "code",
   "execution_count": null,
   "id": "211e82b5-461a-4d6f-8a23-4deccb84173c",
   "metadata": {
    "id": "211e82b5-461a-4d6f-8a23-4deccb84173c"
   },
   "outputs": [],
   "source": [
    "# Your code here"
   ]
  }
 ],
 "metadata": {
  "colab": {
   "provenance": []
  },
  "kernelspec": {
   "display_name": "Python 3 (ipykernel)",
   "language": "python",
   "name": "python3"
  },
  "language_info": {
   "codemirror_mode": {
    "name": "ipython",
    "version": 3
   },
   "file_extension": ".py",
   "mimetype": "text/x-python",
   "name": "python",
   "nbconvert_exporter": "python",
   "pygments_lexer": "ipython3",
   "version": "3.9.12"
  }
 },
 "nbformat": 4,
 "nbformat_minor": 5
}
