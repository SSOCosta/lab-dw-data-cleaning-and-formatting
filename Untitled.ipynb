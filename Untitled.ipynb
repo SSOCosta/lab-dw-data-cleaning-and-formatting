{
 "cells": [
  {
   "cell_type": "code",
   "execution_count": null,
   "id": "a42280f2",
   "metadata": {},
   "outputs": [],
   "source": [
    "df['gender'].unique()"
   ]
  },
  {
   "cell_type": "code",
   "execution_count": null,
   "id": "0cde048f",
   "metadata": {},
   "outputs": [],
   "source": [
    "df.dtypes"
   ]
  },
  {
   "cell_type": "code",
   "execution_count": null,
   "id": "08ca0ce5",
   "metadata": {},
   "outputs": [],
   "source": [
    "# Defyining a function to change to get the values consistent with 'F', 'M', or 'U'(unknown - NAN)\n",
    "def clean(x):\n",
    "    if x in ['M', 'Male']:\n",
    "        return 'M'\n",
    "    elif x in('F','Femal','female'):\n",
    "        return 'F'\n",
    "    else:\n",
    "        return 'U'  \n",
    "\n",
    "# Applying the clean function to the 'Gender' column\n",
    "df['gender'] = df['gender'].map(clean)\n",
    "# Checking the results\n",
    "df['gender'].unique()"
   ]
  },
  {
   "cell_type": "code",
   "execution_count": null,
   "id": "05c41359",
   "metadata": {},
   "outputs": [],
   "source": [
    "df['gender'].unique()"
   ]
  }
 ],
 "metadata": {
  "kernelspec": {
   "display_name": "Python 3 (ipykernel)",
   "language": "python",
   "name": "python3"
  },
  "language_info": {
   "codemirror_mode": {
    "name": "ipython",
    "version": 3
   },
   "file_extension": ".py",
   "mimetype": "text/x-python",
   "name": "python",
   "nbconvert_exporter": "python",
   "pygments_lexer": "ipython3",
   "version": "3.9.12"
  }
 },
 "nbformat": 4,
 "nbformat_minor": 5
}
